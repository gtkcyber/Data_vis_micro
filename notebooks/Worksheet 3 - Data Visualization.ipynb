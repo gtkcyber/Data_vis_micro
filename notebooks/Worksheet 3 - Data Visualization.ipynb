{
 "cells": [
  {
   "cell_type": "markdown",
   "metadata": {},
   "source": [
    "<img src=\"../img/GTK_Logo_Social Icon.jpg\" width=175 align=\"right\" />\n",
    "\n",
    "# Worksheet 3 - Data Visualization\n",
    "This worksheet will walk you through the basic process of preparing a visualization using Python/Pandas/Matplotlib/Seaborn/Cufflinks.  \n",
    "\n",
    "For this exercise, we will be creating a line plot comparing the number of hosts infected by the Bedep and ConfickerAB Bot Families in the Government/Politics sector."
   ]
  },
  {
   "cell_type": "code",
   "execution_count": null,
   "metadata": {
    "ExecuteTime": {
     "end_time": "2020-07-30T03:43:11.316088Z",
     "start_time": "2020-07-30T03:43:11.307961Z"
    }
   },
   "outputs": [],
   "source": [
    "import pandas as pd \n",
    "import matplotlib.pyplot as plt\n",
    "import numpy as np\n",
    "import seaborn as sns\n",
    "import cufflinks as cf\n",
    "import plotly\n",
    "import panel as pn\n",
    "cf.go_offline()\n",
    "%matplotlib inline\n",
    "plt.style.use('ggplot')"
   ]
  },
  {
   "cell_type": "markdown",
   "metadata": {},
   "source": [
    "## Prepare the data\n",
    "The data we will be using is in the `dailybots.csv` file which can be found in the `data` folder.  As is common, we will have to do some data wrangling to get it into a format which we can use to visualize this data.  To do that, we'll need to:\n",
    "1.  Read in the data\n",
    "2.  Filter the data by industry and botnet\n",
    "The result should look something like this:\n",
    "\n",
    "<table>\n",
    "    <tr>\n",
    "        <th></th>\n",
    "        <th>date</th>\n",
    "        <th>ConflikerAB</th>\n",
    "        <th>Bedep</th>\n",
    "    </tr>\n",
    "    <tr>\n",
    "        <td>0</td>\n",
    "        <td>2016-06-01</td>\n",
    "        <td>255</td>\n",
    "        <td>430</td>\n",
    "    </tr>\n",
    "    <tr>\n",
    "        <td>1</td>\n",
    "        <td>2016-06-02</td>\n",
    "        <td>431</td>\n",
    "        <td>453</td>\n",
    "    </tr>\n",
    "</table>\n",
    "\n",
    "The way I chose to do this might be a little more complex, but I wanted you to see all the steps involved.\n",
    "\n",
    "###  Step 1 Read in the data\n",
    "Using the `pd.read_csv()` function, you can read in the data."
   ]
  },
  {
   "cell_type": "code",
   "execution_count": null,
   "metadata": {
    "ExecuteTime": {
     "end_time": "2020-07-30T03:43:12.773863Z",
     "start_time": "2020-07-30T03:43:12.757864Z"
    }
   },
   "outputs": [],
   "source": [
    "DATA_HOME = '../data/'\n",
    "data = pd.read_csv(DATA_HOME + 'dailybots.csv')\n",
    "data.head()"
   ]
  },
  {
   "cell_type": "markdown",
   "metadata": {},
   "source": [
    "### Step 2:  Filter the Data\n",
    "The next step is to filter both by industry and by botfam.  In order to get the data into the format I wanted, I did this separately.  First, I created a second dataframe called `filteredData` which only contains the information from the `Government/Politics` industry."
   ]
  },
  {
   "cell_type": "code",
   "execution_count": null,
   "metadata": {
    "ExecuteTime": {
     "end_time": "2020-07-30T03:43:14.015885Z",
     "start_time": "2020-07-30T03:43:14.005838Z"
    }
   },
   "outputs": [],
   "source": [
    "# Your code here ..."
   ]
  },
  {
   "cell_type": "markdown",
   "metadata": {},
   "source": [
    "Next, I created a second DataFrame which only contains the information from the `ConfickerAB` botnet.  I also reduced the columns to the date and host count.  You'll need to rename the host count so that you can merge the other data set later."
   ]
  },
  {
   "cell_type": "code",
   "execution_count": null,
   "metadata": {
    "ExecuteTime": {
     "end_time": "2020-07-30T03:43:14.902977Z",
     "start_time": "2020-07-30T03:43:14.893926Z"
    }
   },
   "outputs": [],
   "source": [
    "# Your code here..."
   ]
  },
  {
   "cell_type": "markdown",
   "metadata": {},
   "source": [
    "Repeat this porcess for the `Bedep` botfam in a separate dataFrame.  \n",
    "\n",
    "### Step 3: Merge the DataFrames.\n",
    "Next, you'll need to merge the dataframes so that you end up with a dataframe with three columns: the date, the `ConfickerAB` count, and the the `Bedep` count.  Pandas has a `.merge()` function which is documented here: http://pandas.pydata.org/pandas-docs/stable/merging.html\n"
   ]
  },
  {
   "cell_type": "code",
   "execution_count": null,
   "metadata": {
    "ExecuteTime": {
     "end_time": "2020-07-30T03:43:15.943206Z",
     "start_time": "2020-07-30T03:43:15.930480Z"
    }
   },
   "outputs": [],
   "source": [
    "# Your code here..."
   ]
  },
  {
   "cell_type": "code",
   "execution_count": null,
   "metadata": {
    "ExecuteTime": {
     "end_time": "2020-07-30T03:43:16.485209Z",
     "start_time": "2020-07-30T03:43:16.480496Z"
    }
   },
   "outputs": [],
   "source": [
    "# Your code here..."
   ]
  },
  {
   "cell_type": "markdown",
   "metadata": {},
   "source": [
    "##  Create the first chart\n",
    "Using the `.plot()` method, plot your dataframe and see what you get.  "
   ]
  },
  {
   "cell_type": "code",
   "execution_count": null,
   "metadata": {
    "ExecuteTime": {
     "end_time": "2020-07-30T03:43:17.407384Z",
     "start_time": "2020-07-30T03:43:17.290316Z"
    }
   },
   "outputs": [],
   "source": [
    "# Your code here..."
   ]
  },
  {
   "cell_type": "markdown",
   "metadata": {},
   "source": [
    "## Step 3 Customizing your plot:\n",
    "The default plot doesn't look horrible, but there are certainly some improvements which can be made.  Try the following:\n",
    "1.  Change the x-axis to a date by converting the date column to a date object.\n",
    "2.  Move the Legend to the upper center of the graph\n",
    "3.  Make the figure size larger.\n",
    "4.  Instead of rendering both lines on one graph, split them up into two plots\n",
    "5.  Add axis labels\n",
    "\n",
    "There are many examples in the documentation which is available: https://pandas.pydata.org/docs/user_guide/visualization.html"
   ]
  },
  {
   "cell_type": "code",
   "execution_count": null,
   "metadata": {
    "ExecuteTime": {
     "end_time": "2020-07-30T03:43:18.259743Z",
     "start_time": "2020-07-30T03:43:18.253697Z"
    }
   },
   "outputs": [],
   "source": [
    "# Your code here..."
   ]
  },
  {
   "cell_type": "markdown",
   "metadata": {},
   "source": [
    "### Move the Legend to the Upper Center of the Graph\n",
    "For this, you'll have to assign the plot variable to a new variable and then call the formatting methods on it. "
   ]
  },
  {
   "cell_type": "code",
   "execution_count": null,
   "metadata": {
    "ExecuteTime": {
     "end_time": "2020-07-30T03:43:21.303041Z",
     "start_time": "2020-07-30T03:43:20.768384Z"
    }
   },
   "outputs": [],
   "source": [
    " # Your code here ..."
   ]
  },
  {
   "cell_type": "markdown",
   "metadata": {},
   "source": [
    "### Make the Figure Size Larger:\n"
   ]
  },
  {
   "cell_type": "code",
   "execution_count": null,
   "metadata": {
    "ExecuteTime": {
     "end_time": "2020-07-30T03:43:22.452683Z",
     "start_time": "2020-07-30T03:43:22.084744Z"
    }
   },
   "outputs": [],
   "source": [
    "# Your code here..."
   ]
  },
  {
   "cell_type": "markdown",
   "metadata": {},
   "source": [
    "### Adding Subplots\n",
    "The first thing you'll need to do is call the `.subplots( nrows=<rows>, ncols=<cols> )` to create a subplot.\n",
    "Next, plot your charts using the `.plot()` method.  To do add the second plot to your figure, add the `ax=axes[n]` to the `.plot()` method."
   ]
  },
  {
   "cell_type": "code",
   "execution_count": null,
   "metadata": {
    "ExecuteTime": {
     "end_time": "2020-07-30T03:43:23.971084Z",
     "start_time": "2020-07-30T03:43:23.402843Z"
    }
   },
   "outputs": [],
   "source": [
    "# Your code here..."
   ]
  },
  {
   "cell_type": "markdown",
   "metadata": {},
   "source": [
    "# Making it Interactive\n",
    "\n",
    "Using `cufflinks`, plot an interactive time series chart of this data. Plot each series on a separate line.  The documentation for `cufflinks` can be found here: https://github.com/santosjorge/cufflinks.   "
   ]
  },
  {
   "cell_type": "code",
   "execution_count": null,
   "metadata": {
    "ExecuteTime": {
     "end_time": "2020-07-30T03:43:25.205840Z",
     "start_time": "2020-07-30T03:43:25.131191Z"
    }
   },
   "outputs": [],
   "source": [
    "# Your code here..."
   ]
  }
 ],
 "metadata": {
  "anaconda-cloud": {},
  "kernelspec": {
   "display_name": "Python 3",
   "language": "python",
   "name": "python3"
  },
  "language_info": {
   "codemirror_mode": {
    "name": "ipython",
    "version": 3
   },
   "file_extension": ".py",
   "mimetype": "text/x-python",
   "name": "python",
   "nbconvert_exporter": "python",
   "pygments_lexer": "ipython3",
   "version": "3.7.7"
  },
  "toc": {
   "base_numbering": 1,
   "nav_menu": {},
   "number_sections": false,
   "sideBar": false,
   "skip_h1_title": false,
   "title_cell": "Table of Contents",
   "title_sidebar": "Contents",
   "toc_cell": false,
   "toc_position": {},
   "toc_section_display": false,
   "toc_window_display": false
  },
  "varInspector": {
   "cols": {
    "lenName": 16,
    "lenType": 16,
    "lenVar": 40
   },
   "kernels_config": {
    "python": {
     "delete_cmd_postfix": "",
     "delete_cmd_prefix": "del ",
     "library": "var_list.py",
     "varRefreshCmd": "print(var_dic_list())"
    },
    "r": {
     "delete_cmd_postfix": ") ",
     "delete_cmd_prefix": "rm(",
     "library": "var_list.r",
     "varRefreshCmd": "cat(var_dic_list()) "
    }
   },
   "types_to_exclude": [
    "module",
    "function",
    "builtin_function_or_method",
    "instance",
    "_Feature"
   ],
   "window_display": false
  }
 },
 "nbformat": 4,
 "nbformat_minor": 1
}
